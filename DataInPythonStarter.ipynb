{
  "nbformat": 4,
  "nbformat_minor": 0,
  "metadata": {
    "colab": {
      "provenance": [],
      "mount_file_id": "1Rnj7kWp3N067ETyVHA_NtPtDSSqxVbzK",
      "authorship_tag": "ABX9TyPE6BiKIBm/bZifaJEBPZ/2",
      "include_colab_link": true
    },
    "kernelspec": {
      "name": "python3",
      "display_name": "Python 3"
    },
    "language_info": {
      "name": "python"
    }
  },
  "cells": [
    {
      "cell_type": "markdown",
      "metadata": {
        "id": "view-in-github",
        "colab_type": "text"
      },
      "source": [
        "<a href=\"https://colab.research.google.com/github/aaryanmahipalcu/dataforny-22/blob/main/DataInPythonStarter.ipynb\" target=\"_parent\"><img src=\"https://colab.research.google.com/assets/colab-badge.svg\" alt=\"Open In Colab\"/></a>"
      ]
    },
    {
      "cell_type": "markdown",
      "source": [
        "<h1>Importing Data in Python: Starter Worksheet\n",
        "\n",
        "TA: Aaryan!\n",
        "\n",
        "Please make a copy of this file, you will not be able to edit the main file."
      ],
      "metadata": {
        "id": "-3LDRlPPwuK9"
      }
    },
    {
      "cell_type": "code",
      "execution_count": null,
      "metadata": {
        "id": "XFzhERzJwJS4"
      },
      "outputs": [],
      "source": [
        "#Importing packages\n",
        "import numpy as np\n",
        "import matplotlib.pyplot as plt\n",
        "import pandas as pd\n",
        "\n",
        "#Let's try importing an Excel File using Pandas\n",
        "df = pd.read_excel('NBI_NYC.xlsx')\n",
        "df"
      ]
    },
    {
      "cell_type": "markdown",
      "source": [
        "It's good to know how to import pre-formatted data from Excel into Python but a lot of times, you cannot download data from an online source onto your computer. In that case, we will import it directly."
      ],
      "metadata": {
        "id": "cujA4isnAqvB"
      }
    },
    {
      "cell_type": "code",
      "source": [
        "#Importing from an online source\n",
        "df2 = pd.read_csv('https://www.fhwa.dot.gov/bridge/nbi/2022/delimited/NY22.txt', sep=',', engine='python')\n",
        "df2\n",
        "\n",
        "#Some useful commands to work with data in pandas\n",
        "df2.head(15) #Prints top rows of data\n",
        "\n",
        "df2.tail() #prints bottom rows of data\n",
        "\n",
        "#Note you can specify how many rows you want to print by passing an argument through them.\n",
        "df2.columns #Prints out the titles of each column\n",
        "\n",
        "df2[\"STATE_CODE_001\"] #Retrieving a single column"
      ],
      "metadata": {
        "id": "e1xiZskyAeo-",
        "colab": {
          "base_uri": "https://localhost:8080/"
        },
        "outputId": "fbb239f9-739c-4e21-92b1-123555343d8b"
      },
      "execution_count": null,
      "outputs": [
        {
          "output_type": "execute_result",
          "data": {
            "text/plain": [
              "Index(['STATE_CODE_001', 'STRUCTURE_NUMBER_008', 'RECORD_TYPE_005A',\n",
              "       'ROUTE_PREFIX_005B', 'SERVICE_LEVEL_005C', 'ROUTE_NUMBER_005D',\n",
              "       'DIRECTION_005E', 'HIGHWAY_DISTRICT_002', 'COUNTY_CODE_003',\n",
              "       'PLACE_CODE_004',\n",
              "       ...\n",
              "       'BRIDGE_LEN_IND_112', 'SCOUR_CRITICAL_113', 'FUTURE_ADT_114',\n",
              "       'YEAR_OF_FUTURE_ADT_115', 'MIN_NAV_CLR_MT_116', 'FED_AGENCY',\n",
              "       'SUBMITTED_BY', 'BRIDGE_CONDITION', 'LOWEST_RATING', 'DECK_AREA'],\n",
              "      dtype='object', length=123)"
            ]
          },
          "metadata": {},
          "execution_count": 3
        }
      ]
    },
    {
      "cell_type": "markdown",
      "source": [
        "There are so many other tools in Pandas that can help you work data more easily. Coding documentation and Stack Overflow are your best friends - even for experts! If you want to do something but you're not sure how to write out, simply google. If you're interested in diving deeper into pandas, you can look here - https://pandas.pydata.org/docs/user_guide/10min.html. This website is by no means exhaustive of the documentation available. "
      ],
      "metadata": {
        "id": "5Mhq6qj9Dx0o"
      }
    },
    {
      "cell_type": "markdown",
      "source": [
        "<h1>How to visualize data in Python\n",
        "\n",
        "On Monday, we saw how to visualize lists in Python. But today, we are working with DataFrames. Visualization tools for DataFrames are similar but not the same."
      ],
      "metadata": {
        "id": "a83UZ5VBErin"
      }
    },
    {
      "cell_type": "code",
      "source": [
        "df2.plot() #This will do a regular line plot for all the columns in the data\n",
        "\n",
        "#You can plot one column against another by using the x and y keywords\n",
        "df2.plot(x=\"FUTURE_ADT_114\", y=\"COUNTY_CODE_003\")\n",
        "\n",
        "#You can create a bar plot in the following way\n",
        "df2.plot(x=\"FUTURE_ADT_114\", y=\"COUNTY_CODE_003\", kind='bar')"
      ],
      "metadata": {
        "id": "uDKdFF75yUHK"
      },
      "execution_count": null,
      "outputs": []
    },
    {
      "cell_type": "code",
      "source": [
        "#Let's create a scatter plot\n",
        "df2.plot.scatter(x='COLUMN_1', y=\"COLUMN_2\")"
      ],
      "metadata": {
        "id": "noMXDovq40An"
      },
      "execution_count": null,
      "outputs": []
    },
    {
      "cell_type": "code",
      "source": [
        "#Try and create a scatter plot with more than one column on the y-axis\n",
        "df2.plot.scatter(x='COLUMN_1', y=[\"COLUMN_2\", \"COLUMN_3\"])\n",
        "\n",
        "\n"
      ],
      "metadata": {
        "id": "cxzM_8MF595R"
      },
      "execution_count": null,
      "outputs": []
    },
    {
      "cell_type": "markdown",
      "source": [
        "There are so many other visualizations you can create using pandas. I will not go into each one of them but I would encourage you to explore them in the activity. Here's the documentation for it - https://pandas.pydata.org/docs/user_guide/visualization.html. I hope this will allow you to get a feel for reading programming documentation as anyone in the STEM field would."
      ],
      "metadata": {
        "id": "daR8Rw0h6dH1"
      }
    },
    {
      "cell_type": "markdown",
      "source": [
        "<h1>Activity\n",
        "\n",
        "Your task would be to work with your groups to pick a different state's data from the National Bridge Inventory - https://www.fhwa.dot.gov/bridge/nbi/ascii2022.cfm (pick only the comma dilimited data sets). You will import this data in Python and isolate a few columns to create your small subset of data to visualize. A few things to keep in mind:\n",
        "- Make sure the data you pick makes sense (it conveys some information and isn't randomly picked data). It should tell a story\n",
        "- Make sure you pick the right kind if visualization\n",
        "-Limit your data if you have to. Remember, too much information isn't always the best\n",
        "\n",
        "I want you to consider the audience the data is meant for. Keep that in mind while you visualize your data. If you are having trouble isolating data, feel free to come to me and I can give you one. \n",
        "You have to make 2-3 different visualizations but feel free to do more. At the end, we will post our findings on teams and discuss. \n",
        "\n",
        "\n"
      ],
      "metadata": {
        "id": "NKitdRY_6G5W"
      }
    }
  ]
}